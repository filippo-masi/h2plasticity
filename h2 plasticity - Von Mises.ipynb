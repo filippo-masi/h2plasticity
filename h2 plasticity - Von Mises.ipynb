{
 "cells": [
  {
   "cell_type": "markdown",
   "metadata": {},
   "source": [
    "## 1. Incremental constitutive law"
   ]
  },
  {
   "cell_type": "markdown",
   "metadata": {},
   "source": [
    "### 1.1 Import dependencies"
   ]
  },
  {
   "cell_type": "code",
   "execution_count": 1,
   "metadata": {},
   "outputs": [],
   "source": [
    "import pickle\n",
    "import sympy as sym\n",
    "import numpy as np\n",
    "from scipy.integrate import solve_ivp\n",
    "from progressbar import ProgressBar\n",
    "\n",
    "import matplotlib.pyplot as plt\n",
    "font = {'size'   : 12}\n",
    "plt.rc('font', **font)"
   ]
  },
  {
   "cell_type": "markdown",
   "metadata": {},
   "source": [
    "### 1.2 Sympy symbols and tensors"
   ]
  },
  {
   "cell_type": "code",
   "execution_count": 2,
   "metadata": {},
   "outputs": [],
   "source": [
    "# Material parameters\n",
    "K = sym.Symbol('K',real=True) # Bulk modulus\n",
    "G = sym.Symbol('G',real=True) # Shear modulus\n",
    "k = sym.Symbol('k',real=True) # Material strength in simple shear\n",
    "s = sym.Symbol('s',real=True) # transition parameter (s>0, hypoplasticity -- s->\\infty, hyperplasticity)\n",
    "\n",
    "# Components\n",
    "e11 = sym.Symbol('e_{11}',real=True); e22 = sym.Symbol('e_{22}',real=True); e33 = sym.Symbol('e_{33}',real=True);\n",
    "e12 = sym.Symbol('e_{12}',real=True); e13 = sym.Symbol('e_{13}',real=True); e21 = sym.Symbol('e_{21}',real=True);\n",
    "e23 = sym.Symbol('e_{23}',real=True); e31 = sym.Symbol('e_{31}',real=True); e32 = sym.Symbol('e_{32}',real=True) \n",
    "\n",
    "de11 = sym.Symbol('\\dot{e_{11}}',real=True); de22 = sym.Symbol('\\dot{e_{22}}',real=True); de33 = sym.Symbol('\\dot{e_{33}}',real=True)\n",
    "de12 = sym.Symbol('\\dot{e_{12}}',real=True); de13 = sym.Symbol('\\dot{e_{13}}', real=True); de21 = sym.Symbol('\\dot{e_{21}}',real=True)\n",
    "de23 = sym.Symbol('\\dot{e_{23}}',real=True); de31 = sym.Symbol('\\dot{e_{31}}',real=True); de32 = sym.Symbol('\\dot{e_{32}}',real=True)\n",
    "\n",
    "z11 = sym.Symbol('z_{11}',real=True); z22 = sym.Symbol('z_{22}',real=True); z33 = sym.Symbol('z_{33}',real=True)\n",
    "z12 = sym.Symbol('z_{12}',real=True); z13 = sym.Symbol('z_{13}',real=True); z21 = sym.Symbol('z_{21}',real=True)\n",
    "z23 = sym.Symbol('z_{23}',real=True); z31 = sym.Symbol('z_{31}',real=True); z32 = sym.Symbol('z_{32}',real=True)\n",
    "\n",
    "dz11 = sym.Symbol('\\dot{z}_{11}',real=True); dz22 = sym.Symbol('\\dot{z}_{22}',real=True); dz33 = sym.Symbol('\\dot{z}_{33}',real=True)\n",
    "dz12 = sym.Symbol('\\dot{z}_{12}',real=True); dz13 = sym.Symbol('\\dot{z}_{13}',real=True); dz21 = sym.Symbol('\\dot{z}_{21}',real=True)\n",
    "dz23 = sym.Symbol('\\dot{z}_{23}',real=True); dz31 = sym.Symbol('\\dot{z}_{31}',real=True); dz32 = sym.Symbol('\\dot{z}_{32}',real=True)\n",
    "\n",
    "sg11 = sym.Symbol('s_{11}',real=True); sg22 = sym.Symbol('s_{22}',real=True); sg33 = sym.Symbol('s_{33}',real=True)\n",
    "sg12 = sym.Symbol('s_{12}',real=True); sg13 = sym.Symbol('s_{13}',real=True); sg21 = sym.Symbol('s_{21}',real=True)\n",
    "sg23 = sym.Symbol('s_{23}',real=True); sg31 = sym.Symbol('s_{31}',real=True); sg32 = sym.Symbol('s_{32}',real=True)\n",
    "\n",
    "# Tensor\n",
    "E = sym.Array([[e11, e12, e13], [e21, e22, e23], [e31, e32, e33]]) # Total strain\n",
    "Edot = sym.Array([[de11, de12, de13], [de21, de22, de23], [de31, de32, de33]]) # Total strain incremement\n",
    "Z = sym.Array([[z11, z12, z13], [z21, z22, z23], [z31, z32, z33]]) # Plastic strain\n",
    "Zdot = sym.Array([[dz11, dz12, dz13], [dz21, dz22, dz23], [dz31, dz32, dz33]]) # Plastic strain increment\n",
    "S = sym.Array([[sg11, sg12, sg13], [sg21, sg22, sg23], [sg31, sg32, sg33]]) # Stress\n",
    "\n",
    "# Arguments of lambdify functions\n",
    "prms = [K, G, k, s]\n",
    "args_s = [sg11, sg12, sg13,\n",
    "          sg21, sg22, sg23,\n",
    "          sg31, sg32, sg33]\n",
    "args_de = [de11, de12, de13,\n",
    "           de21, de22, de23,\n",
    "           de31, de32, de33]\n",
    "args = sym.flatten([args_s, prms, args_de])"
   ]
  },
  {
   "cell_type": "markdown",
   "metadata": {},
   "source": [
    "### 1.3 Build-in functions (sympy)"
   ]
  },
  {
   "cell_type": "code",
   "execution_count": 3,
   "metadata": {},
   "outputs": [],
   "source": [
    "def to_Array(A):\n",
    "    return sym.tensorproduct(A)\n",
    "\n",
    "def sympy_compute_spherical_deviatoric(A):\n",
    "    ''' Take a nxn matrix and return its spherical and deviatoric parts'''\n",
    "    if A.shape[0] != A.shape[1]: print(\"matrix has to be square\"); return\n",
    "    dim = A.shape[0]\n",
    "    a_hyd = sym.tensorcontraction(A,(0,1))\n",
    "    A_hyd = a_hyd * to_Array(sym.eye(dim,dim))/3\n",
    "    A_dev = A - A_hyd\n",
    "    return A_hyd, A_dev"
   ]
  },
  {
   "cell_type": "markdown",
   "metadata": {},
   "source": [
    "### 1.4 Compute spherical and deviatoric parts"
   ]
  },
  {
   "cell_type": "code",
   "execution_count": 4,
   "metadata": {},
   "outputs": [],
   "source": [
    "E_hyd, E_dev = sympy_compute_spherical_deviatoric(E)  # [ε] spheric and [ε] deviatoric\n",
    "Edot_hyd, Edot_dev = sympy_compute_spherical_deviatoric(Edot)  # [Δε] spheric and [Δε] deviatoric\n",
    "Z_hyd,Z_dev = sympy_compute_spherical_deviatoric(Z) # [Z] spheric and [Z] deviatoric\n",
    "Zdot_hyd,Zdot_dev = sympy_compute_spherical_deviatoric(Zdot) # [ΔZ] spheric and [ΔZ] deviatoric\n",
    "S_hyd, S_dev = sympy_compute_spherical_deviatoric(S) # [Σ] spheric and [Σ] deviatoric"
   ]
  },
  {
   "cell_type": "markdown",
   "metadata": {},
   "source": [
    "### 1.5 Compute stress and plastic strain increments"
   ]
  },
  {
   "cell_type": "code",
   "execution_count": 5,
   "metadata": {},
   "outputs": [],
   "source": [
    "A = sym.tensorcontraction(sym.tensorcontraction(sym.tensorproduct(S_dev,Edot_dev),(0,2)),(0,1))\n",
    "B = sym.tensorcontraction(sym.tensorcontraction(sym.tensorproduct(S_dev,S_dev),(0,2)),(0,1))\n",
    "\n",
    "Zdot_tensor = (sym.Abs(A)/(2*sym.Pow(k,2)))*(sym.Pow(sym.sqrt(B)/(sym.sqrt(2)*k),(s-2)))*S_dev\n",
    "Sdot_tensor = 2*G*(Edot_dev-Zdot_tensor)\n",
    "Sdot_tensor = Sdot_tensor + 3*K*Edot_hyd\n",
    "\n",
    "func_Zdot_tensor = sym.lambdify(args, Zdot_tensor)\n",
    "func_Sdot_tensor = sym.lambdify(args, Sdot_tensor)"
   ]
  },
  {
   "cell_type": "markdown",
   "metadata": {},
   "source": [
    "### 1.6 Build-in functions (numpy)"
   ]
  },
  {
   "cell_type": "code",
   "execution_count": 6,
   "metadata": {},
   "outputs": [],
   "source": [
    "def Voigt_to_Tensor(vector, strain=False):\n",
    "    ''' Return tensor from Voigt representation '''\n",
    "    \n",
    "    mult=1.\n",
    "    if strain==True: mult=.5\n",
    "    tensor=np.asarray([vector[0],       mult*vector[5], mult*vector[4],\n",
    "                       mult*vector[5],  vector[1],      mult*vector[3],\n",
    "                       mult*vector[4],  mult*vector[3], vector[2]],\n",
    "                       dtype=np.float64)\n",
    "    tensor=tensor.reshape((-1,3))\n",
    "    return tensor\n",
    "\n",
    "def Tensor_to_Voigt(tensor, strain=False):\n",
    "    ''' Return Voigt representation of a tensor '''\n",
    "    \n",
    "    mult=1.\n",
    "    if strain==True: mult=2.\n",
    "    voigt=np.array([tensor[0,0],      tensor[1,1],      tensor[2,2],\n",
    "                    mult*tensor[1,2], mult*tensor[0,2], mult*tensor[0,1]])\n",
    "    return voigt\n",
    "    \n",
    "def calculate_energy(gamma_el,K,G):\n",
    "    ''' Compute Helmholtz free energy '''\n",
    "    \n",
    "    gamma_el = Voigt_to_Tensor(gamma_el,\n",
    "                               strain=True)\n",
    "    gamma_el_v = find_spherical_part(gamma_el,\n",
    "                                     strain=True)\n",
    "    gamma_el_d = find_dev(gamma_el,\n",
    "                          strain=True)\n",
    "    F = 0.5*K*gamma_el_v**2 + 0.5*G*gamma_el_d**2\n",
    "    return F  \n",
    "\n",
    "def dissipation(stress,d_eps_pl):\n",
    "    ''' Compute dissipation rate '''\n",
    "    \n",
    "    stress=Voigt_to_Tensor(stress)\n",
    "    d_eps_pl=Voigt_to_Tensor(d_eps_pl,\n",
    "                             strain=True)\n",
    "    tau2=find_dev(stress)\n",
    "    eq_dot2=find_dev(d_eps_pl,\n",
    "                     strain=True)\n",
    "    D=tau2*eq_dot2\n",
    "    return D\n",
    "\n",
    "def find_spherical_part(tensor,strain=False):\n",
    "    ''' Compute spherical part of a tensor '''\n",
    "    \n",
    "    mult=1./3.\n",
    "    if strain==True: mult=1.\n",
    "    return np.trace(tensor)*mult\n",
    "\n",
    "def find_deviatoric_tensor(tensor):\n",
    "    ''' Compute deviatoric tensor '''\n",
    "\n",
    "    return tensor-np.trace(tensor)*np.eye(3)/3.\n",
    "\n",
    "def find_dev(tensor,strain=False):\n",
    "    ''' Compute deviatoric part of a tensor '''\n",
    "    \n",
    "    mult=2.\n",
    "    if strain==False: mult=.5\n",
    "    dev_tensor=find_deviatoric_tensor(tensor)\n",
    "    dev=np.sum(np.multiply(dev_tensor,dev_tensor))         \n",
    "    return np.sqrt(mult*dev)"
   ]
  },
  {
   "cell_type": "markdown",
   "metadata": {},
   "source": [
    "### 1.7 Incremental constitutive relations"
   ]
  },
  {
   "cell_type": "code",
   "execution_count": 7,
   "metadata": {},
   "outputs": [],
   "source": [
    "def incremental_constitutive(t,y,de,params):\n",
    "    K, G, k, s = params\n",
    "    y_tensor = Voigt_to_Tensor(y)\n",
    "    de_tensor = Voigt_to_Tensor(de,strain=True)\n",
    "    sol_S = np.array(func_Sdot_tensor(y_tensor[0,0], y_tensor[0,1], y_tensor[0,2],\n",
    "                                      y_tensor[1,0], y_tensor[1,1], y_tensor[1,2],\n",
    "                                      y_tensor[2,0], y_tensor[2,1], y_tensor[2,2],\n",
    "                                      params[0], params[1],\n",
    "                                      params[2], params[3],\n",
    "                                      de_tensor[0,0], de_tensor[0,1], de_tensor[0,2],\n",
    "                                      de_tensor[1,0], de_tensor[1,1], de_tensor[1,2],\n",
    "                                      de_tensor[2,0], de_tensor[2,1], de_tensor[2,2]))\n",
    "    sol_Z = np.array(func_Zdot_tensor(y_tensor[0,0], y_tensor[0,1], y_tensor[0,2],\n",
    "                                      y_tensor[1,0], y_tensor[1,1], y_tensor[1,2],\n",
    "                                      y_tensor[2,0], y_tensor[2,1], y_tensor[2,2],\n",
    "                                      params[0], params[1],\n",
    "                                      params[2], params[3],\n",
    "                                      de_tensor[0,0], de_tensor[0,1], de_tensor[0,2],\n",
    "                                      de_tensor[1,0], de_tensor[1,1], de_tensor[1,2],\n",
    "                                      de_tensor[2,0], de_tensor[2,1], de_tensor[2,2]))\n",
    "    voigt_Sdot = Tensor_to_Voigt(sol_S)\n",
    "    voigt_Zdot = Tensor_to_Voigt(sol_Z,strain=True)\n",
    "    return np.array([voigt_Sdot,voigt_Zdot]).flatten()\n",
    "\n",
    "def perform_constitutive_increment(strain_increment, state, params):\n",
    "    y0, t0 = state, 0.0\n",
    "    tol_e = 1.e+3; tol_s = 1.e-3; gl_tol = 1.e-8\n",
    "    statetdt = solve_ivp(fun=lambda t, y: incremental_constitutive(t,y,strain_increment,params),\n",
    "                         t_span=[0.,1.],\n",
    "                         y0 = y0,\n",
    "                         method='RK23', rtol = 1.e-6,\n",
    "                         atol = gl_tol * np.array([tol_s,tol_s,tol_s,\n",
    "                                                   tol_s,tol_s,tol_s,\n",
    "                                                   tol_e,tol_e,tol_e,\n",
    "                                                   tol_e,tol_e,tol_e]))\n",
    "    status = statetdt.success\n",
    "    if status==False : print(\"solve_ivp didn't converge\")\n",
    "    return statetdt.y[:,-1:].flatten()"
   ]
  },
  {
   "cell_type": "markdown",
   "metadata": {},
   "source": [
    "### 1.8 Refine and structure data "
   ]
  },
  {
   "cell_type": "code",
   "execution_count": 8,
   "metadata": {},
   "outputs": [],
   "source": [
    "def refine_structure_data(svars_tdt,params,increments):\n",
    "    '''Refine the data and split in couple of states at time t and time t+dt'''\n",
    "    \n",
    "    K_param, G_param, k_param, s_param = params\n",
    "    svars_t=np.array([svars_tdt[i-1] for i in range(0,increments)]); svars_t[0]=0.*svars_t[0]\n",
    "    svars_t[np.arange(0,len(svars_t),n_reset)]=np.zeros(len(svars_tdt[0])) # svars at time t\n",
    "    \n",
    "    stress_t=svars_t[:,:6]\n",
    "    pl_strain_t=svars_t[:,6:12]\n",
    "    strain_t=svars_t[:,12:18]\n",
    "    \n",
    "    stress_tdt=svars_tdt[:,:6]\n",
    "    pl_strain_tdt=svars_tdt[:,6:12]\n",
    "    strain_tdt=svars_tdt[:,12:18]\n",
    "    \n",
    "    delta_pl_strain = pl_strain_tdt-pl_strain_t\n",
    "    el_strain_t = strain_t-pl_strain_t\n",
    "    el_strain_tdt = strain_tdt-pl_strain_tdt\n",
    "    \n",
    "    dissipation_rate_tdt = np.array([dissipation(stress_tdt[i],delta_pl_strain[i])\n",
    "                                     for i in range(0,increments)])\n",
    "    energy_tdt = np.array([calculate_energy(el_strain_tdt[i],K_param,G_param)\n",
    "                           for i in range(0,increments)])\n",
    "    return stress_t,stress_tdt,pl_strain_t,pl_strain_tdt,el_strain_t,el_strain_tdt,strain_t,strain_tdt,energy_tdt,dissipation_rate_tdt"
   ]
  },
  {
   "cell_type": "markdown",
   "metadata": {},
   "source": [
    "## 2. Data generation"
   ]
  },
  {
   "cell_type": "markdown",
   "metadata": {},
   "source": [
    "### 2.1 Material parameters"
   ]
  },
  {
   "cell_type": "code",
   "execution_count": 9,
   "metadata": {},
   "outputs": [],
   "source": [
    "E_param = 200.e+3 # Young modulus\n",
    "v_param = 0.3 # Poisson's coefficient\n",
    "K_param = E_param/(3*(1-2*v_param)) # Bulk modulus\n",
    "G_param = E_param/(2*(1+v_param)) # Shear modulus\n",
    "S_y = 200. # Strength in simple shearing\n",
    "s = 1 # transition hypo-hyper parameter\n",
    "\n",
    "params = [K_param, G_param, S_y/np.sqrt(2),s]"
   ]
  },
  {
   "cell_type": "markdown",
   "metadata": {},
   "source": [
    "### 2.2 Increments and prescribed strain path"
   ]
  },
  {
   "cell_type": "code",
   "execution_count": 10,
   "metadata": {},
   "outputs": [],
   "source": [
    "increments = 400 # number of increments\n",
    "n_reset = 200 # number of increments before resetting\n",
    "\n",
    "mod = 1e-4 # amplitude\n",
    "deps_inc = np.zeros((increments,6))\n",
    "for i in range(n_reset):\n",
    "    deps_inc[i,5] = mod * np.sign(np.cos((2*i*np.pi)/(0.5*n_reset))) # first path\n",
    "    deps_inc[n_reset+i,5] = 2*mod * np.sign(np.cos((2*i*np.pi)/(0.5*n_reset))) # second path"
   ]
  },
  {
   "cell_type": "markdown",
   "metadata": {},
   "source": [
    "### 2.3 Generate data from prescribed strain path"
   ]
  },
  {
   "cell_type": "code",
   "execution_count": 11,
   "metadata": {},
   "outputs": [
    {
     "name": "stderr",
     "output_type": "stream",
     "text": [
      "100% |########################################################################|\r"
     ]
    },
    {
     "name": "stdout",
     "output_type": "stream",
     "text": [
      "Incrementation completed\n",
      "Processing data\n"
     ]
    },
    {
     "name": "stderr",
     "output_type": "stream",
     "text": [
      "\n"
     ]
    }
   ],
   "source": [
    "epsilon_tdt=np.zeros((increments,6))\n",
    "svars_tdt=np.zeros((increments,18)) # stress (6), plastic strain (6:12), total strain (12:18)  \n",
    "\n",
    "tol=1e-24; # do not modify\n",
    "\n",
    "pbar = ProgressBar()\n",
    "for i in pbar(range(increments)):\n",
    "    if not i % n_reset:\n",
    "        svarsGP_t=np.zeros(18)+tol\n",
    "          \n",
    "    epsilon_tdt[i]=svarsGP_t[12:18]+deps_inc[i]\n",
    "    svars_tdt[i,:12] = perform_constitutive_increment(deps_inc[i],svarsGP_t[:12],params)\n",
    "    svars_tdt[i,12:18]=epsilon_tdt[i]\n",
    "    svarsGP_t=svars_tdt[i]\n",
    "\n",
    "print(\"Incrementation completed\\nProcessing data\")"
   ]
  },
  {
   "cell_type": "markdown",
   "metadata": {},
   "source": [
    "### 2.4 Restructure data"
   ]
  },
  {
   "cell_type": "code",
   "execution_count": 12,
   "metadata": {},
   "outputs": [],
   "source": [
    "data = refine_structure_data(svars_tdt,params,increments)\n",
    "stress_t,stress_tdt,pl_strain_t,pl_strain_tdt,el_strain_t,el_strain_tdt,strain_t,strain_tdt,energy_tdt,dissipation_rate_tdt = data"
   ]
  },
  {
   "cell_type": "code",
   "execution_count": 13,
   "metadata": {},
   "outputs": [],
   "source": [
    "volumetric_el_strain_tdt = np.array([find_spherical_part(Voigt_to_Tensor(el_strain_tdt[i],strain=True),strain=True)\n",
    "                                     for i in range(0,increments)])\n",
    "\n",
    "deviatoric_el_strain_tdt = np.array([find_dev(Voigt_to_Tensor(el_strain_tdt[i],strain=True),strain=True)\n",
    "                                     for i in range(0,increments)])\n",
    "\n",
    "deviatoric_delta_pl_strain = np.array([find_dev(Voigt_to_Tensor(pl_strain_tdt[i]-pl_strain_t[i],strain=True),strain=True)\n",
    "                                       for i in range(0,increments)])"
   ]
  },
  {
   "cell_type": "markdown",
   "metadata": {},
   "source": [
    "### 2.5 Plot data"
   ]
  },
  {
   "cell_type": "code",
   "execution_count": 14,
   "metadata": {},
   "outputs": [
    {
     "data": {
      "text/plain": [
       "<matplotlib.legend.Legend at 0x7f432a2f45b0>"
      ]
     },
     "execution_count": 14,
     "metadata": {},
     "output_type": "execute_result"
    },
    {
     "data": {
      "image/png": "[encoded data removed]",
      "text/plain": [
       "<Figure size 216x216 with 1 Axes>"
      ]
     },
     "metadata": {
      "needs_background": "light"
     },
     "output_type": "display_data"
    }
   ],
   "source": [
    "plt.rcParams[\"figure.figsize\"] = (3,3)\n",
    "fig, ax = plt.subplots(1)\n",
    "\n",
    "ax.plot(strain_t[:n_reset,5], stress_t[:n_reset,5],\n",
    "        marker='o',markersize=2, linewidth=1, color='darkblue',label='path #1')\n",
    "ax.plot(strain_t[n_reset:,5], stress_t[n_reset:,5],\n",
    "        marker='o',markersize=2, linewidth=1, color='darkgreen',label='path #2')\n",
    "ax.set_xlabel('$2E_{12}$')\n",
    "ax.set_ylabel('$\\Sigma_{12}$')\n",
    "ax.legend()"
   ]
  },
  {
   "cell_type": "code",
   "execution_count": 15,
   "metadata": {},
   "outputs": [
    {
     "data": {
      "text/plain": [
       "Text(0, 0.5, '$D^{t+\\\\Delta t}$ (Nm/s)')"
      ]
     },
     "execution_count": 15,
     "metadata": {},
     "output_type": "execute_result"
    },
    {
     "data": {
      "image/png": "[encoded data removed]",
      "text/plain": [
       "<Figure size 216x216 with 1 Axes>"
      ]
     },
     "metadata": {
      "needs_background": "light"
     },
     "output_type": "display_data"
    }
   ],
   "source": [
    "fig, ax = plt.subplots(1)\n",
    "plt.plot(deviatoric_delta_pl_strain,dissipation_rate_tdt,\n",
    "         marker='s',markersize=2, linewidth=1, color='red')\n",
    "ax.set_xlabel('Deviatoric $\\Delta \\epsilon^{pl}$ (-)')\n",
    "ax.set_ylabel('$D^{t+\\Delta t}$ (Nm/s)')"
   ]
  },
  {
   "cell_type": "code",
   "execution_count": 16,
   "metadata": {},
   "outputs": [
    {
     "data": {
      "text/plain": [
       "Text(0, 0.5, '$F^{t+\\\\Delta t}$ (Nm)')"
      ]
     },
     "execution_count": 16,
     "metadata": {},
     "output_type": "execute_result"
    },
    {
     "data": {
      "image/png": "[encoded data removed]",
      "text/plain": [
       "<Figure size 216x216 with 1 Axes>"
      ]
     },
     "metadata": {
      "needs_background": "light"
     },
     "output_type": "display_data"
    }
   ],
   "source": [
    "fig, ax = plt.subplots(1)\n",
    "plt.plot(deviatoric_el_strain_tdt,energy_tdt, marker='s',\n",
    "         markersize=2, linewidth=1, color='darkorange')\n",
    "ax.set_xlabel('Deviatoric $\\Delta \\epsilon^{el}$ (-)')\n",
    "ax.set_ylabel('$F^{t+\\Delta t}$ (Nm)')"
   ]
  }
 ],
 "metadata": {
  "kernelspec": {
   "display_name": "Python 3",
   "language": "python",
   "name": "python3"
  },
  "language_info": {
   "codemirror_mode": {
    "name": "ipython",
    "version": 3
   },
   "file_extension": ".py",
   "mimetype": "text/x-python",
   "name": "python",
   "nbconvert_exporter": "python",
   "pygments_lexer": "ipython3",
   "version": "3.8.10"
  }
 },
 "nbformat": 4,
 "nbformat_minor": 4
}
