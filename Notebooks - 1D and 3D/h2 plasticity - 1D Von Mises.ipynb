{
 "cells": [
  {
   "cell_type": "markdown",
   "metadata": {},
   "source": [
    "## 1. Incremental constitutive law"
   ]
  },
  {
   "cell_type": "markdown",
   "metadata": {},
   "source": [
    "### 1.1 Import dependencies"
   ]
  },
  {
   "cell_type": "code",
   "execution_count": 1,
   "metadata": {},
   "outputs": [],
   "source": [
    "import pickle\n",
    "import sympy as sym\n",
    "import numpy as np\n",
    "from scipy.integrate import solve_ivp\n",
    "from progressbar import ProgressBar\n",
    "\n",
    "import matplotlib.pyplot as plt\n",
    "font = {'size'   : 12}\n",
    "plt.rc('font', **font)"
   ]
  },
  {
   "cell_type": "markdown",
   "metadata": {},
   "source": [
    "### 1.2 Sympy symbols"
   ]
  },
  {
   "cell_type": "code",
   "execution_count": 2,
   "metadata": {},
   "outputs": [],
   "source": [
    "# Material parameters\n",
    "E= sym.Symbol('K',real=True) # Bulk modulus\n",
    "k = sym.Symbol('k',real=True) # Material strength in simple shear\n",
    "s = sym.Symbol('s',real=True) # transition parameter (s>0, hypoplasticity -- s->\\infty, hyperplasticity)\n",
    "\n",
    "# Components\n",
    "e = sym.Symbol('\\epsilon',real=True)\n",
    "de = sym.Symbol('\\dot{e}}',real=True)\n",
    "z = sym.Symbol('z',real=True)\n",
    "dz = sym.Symbol('\\dot{z}',real=True)\n",
    "sg = sym.Symbol('\\sigma',real=True)\n",
    "\n",
    "# Arguments of lambdify functions\n",
    "prms = [E, k, s]\n",
    "args_s = [sg]\n",
    "args_de = [de]\n",
    "args = sym.flatten([sg, prms, de])"
   ]
  },
  {
   "cell_type": "markdown",
   "metadata": {},
   "source": [
    "### 1.3 Compute stress and plastic strain increments"
   ]
  },
  {
   "cell_type": "code",
   "execution_count": 3,
   "metadata": {},
   "outputs": [],
   "source": [
    "Zdot = sym.Abs(de)*sym.sign(sg)*(sym.Pow(sym.Abs(sg)/k,s))\n",
    "Sdot = E*(de-sym.Abs(de)*sym.sign(sg)*(sym.Pow(sym.Abs(sg)/k,s)))\n",
    "# Sdot_tensor = Sdot_tensor + 3*K*Edot_hyd\n",
    "\n",
    "func_Zdot_tensor = sym.lambdify(args, Zdot)\n",
    "func_Sdot_tensor = sym.lambdify(args, Sdot)"
   ]
  },
  {
   "cell_type": "markdown",
   "metadata": {},
   "source": [
    "### 1.4 Build-in functions (numpy)"
   ]
  },
  {
   "cell_type": "code",
   "execution_count": 4,
   "metadata": {},
   "outputs": [],
   "source": [
    "def calculate_energy(gamma_el,E):\n",
    "    ''' Compute Helmholtz free energy '''\n",
    "    \n",
    "    F = 0.5*E*gamma_el**2\n",
    "    return F  \n",
    "\n",
    "def dissipation(stress,d_eps_pl):\n",
    "    ''' Compute dissipation rate '''\n",
    "    \n",
    "    D=stress*d_eps_pl\n",
    "    return D"
   ]
  },
  {
   "cell_type": "markdown",
   "metadata": {},
   "source": [
    "### 1.5 Incremental constitutive relations"
   ]
  },
  {
   "cell_type": "code",
   "execution_count": 5,
   "metadata": {},
   "outputs": [],
   "source": [
    "def incremental_constitutive(t,y,de,params):\n",
    "    E, k, s = params\n",
    "    sol_S = np.array(func_Sdot_tensor(y[0],\n",
    "                                      params[0], params[1], params[2],\n",
    "                                      de))\n",
    "    sol_Z = np.array(func_Zdot_tensor(y[0],\n",
    "                                      params[0], params[1], params[2],\n",
    "                                      de))\n",
    "    return np.array([sol_S,sol_Z]).flatten()\n",
    "\n",
    "def perform_constitutive_increment(strain_increment, state, params):\n",
    "    y0, t0 = state, 0.0\n",
    "    tol_e = 1.e+3; tol_s = 1.e-3; gl_tol = 1.e-8\n",
    "    statetdt = solve_ivp(fun=lambda t, y: incremental_constitutive(t,y,strain_increment,params),\n",
    "                         t_span=[0.,1.],\n",
    "                         y0 = y0,\n",
    "                         method='RK23', rtol = 1.e-6,\n",
    "                         atol = gl_tol * np.array([tol_s,tol_e])\n",
    "                        )\n",
    "    status = statetdt.success\n",
    "    if status==False : print(\"solve_ivp didn't converge\")\n",
    "    return statetdt.y[:,-1:].flatten()"
   ]
  },
  {
   "cell_type": "markdown",
   "metadata": {},
   "source": [
    "### 1.6 Refine and structure data "
   ]
  },
  {
   "cell_type": "code",
   "execution_count": 6,
   "metadata": {},
   "outputs": [],
   "source": [
    "def refine_structure_data(svars_tdt,params,increments):\n",
    "    '''Refine the data and split in couple of states at time t and time t+dt'''\n",
    "    \n",
    "    E_param, k_param, s_param = params\n",
    "    svars_t=np.array([svars_tdt[i-1] for i in range(0,increments)]); svars_t[0]=0.*svars_t[0]\n",
    "    svars_t[np.arange(0,len(svars_t),n_reset)]=np.zeros(len(svars_tdt[0])) # svars at time t\n",
    "    \n",
    "    stress_t=svars_t[:,0]\n",
    "    pl_strain_t=svars_t[:,1]\n",
    "    strain_t=svars_t[:,2]\n",
    "    \n",
    "    stress_tdt=svars_tdt[:,0]\n",
    "    pl_strain_tdt=svars_tdt[:,1]\n",
    "    strain_tdt=svars_tdt[:,2]\n",
    "    \n",
    "    delta_pl_strain = pl_strain_tdt-pl_strain_t\n",
    "    el_strain_t = strain_t-pl_strain_t\n",
    "    el_strain_tdt = strain_tdt-pl_strain_tdt\n",
    "    \n",
    "    dissipation_rate_tdt = np.array([dissipation(stress_tdt[i],delta_pl_strain[i])\n",
    "                                     for i in range(0,increments)])\n",
    "    energy_tdt = np.array([calculate_energy(el_strain_tdt[i],E_param)\n",
    "                           for i in range(0,increments)])\n",
    "    return stress_t,stress_tdt,pl_strain_t,pl_strain_tdt,el_strain_t,el_strain_tdt,strain_t,strain_tdt,energy_tdt,dissipation_rate_tdt"
   ]
  },
  {
   "cell_type": "markdown",
   "metadata": {},
   "source": [
    "## 2. Data generation"
   ]
  },
  {
   "cell_type": "markdown",
   "metadata": {},
   "source": [
    "### 2.1 Material parameters"
   ]
  },
  {
   "cell_type": "code",
   "execution_count": 7,
   "metadata": {},
   "outputs": [],
   "source": [
    "E_param = 200.e+3 # Young modulus\n",
    "S_y = 200. # Material strength \n",
    "s = 1 # transition hypo-hyper parameter\n",
    "\n",
    "params = [E_param, S_y/np.sqrt(2),s]"
   ]
  },
  {
   "cell_type": "markdown",
   "metadata": {},
   "source": [
    "### 2.2 Increments and prescribed strain path"
   ]
  },
  {
   "cell_type": "code",
   "execution_count": 8,
   "metadata": {},
   "outputs": [],
   "source": [
    "increments = 400 # number of increments\n",
    "n_reset = 200 # number of increments before resetting\n",
    "\n",
    "mod = 1e-4 # amplitude\n",
    "deps_inc = np.zeros((increments))\n",
    "for i in range(n_reset):\n",
    "    deps_inc[i] = mod * np.sign(np.cos((2*i*np.pi)/(0.5*n_reset))) # first path\n",
    "    deps_inc[n_reset+i] = 2*mod * np.sign(np.cos((2*i*np.pi)/(0.5*n_reset))) # second path"
   ]
  },
  {
   "cell_type": "markdown",
   "metadata": {},
   "source": [
    "### 2.3 Generate data from prescribed strain path"
   ]
  },
  {
   "cell_type": "code",
   "execution_count": 9,
   "metadata": {},
   "outputs": [
    {
     "name": "stderr",
     "output_type": "stream",
     "text": [
      "100% |########################################################################|\r"
     ]
    },
    {
     "name": "stdout",
     "output_type": "stream",
     "text": [
      "Incrementation completed\n",
      "Processing data\n"
     ]
    },
    {
     "name": "stderr",
     "output_type": "stream",
     "text": [
      "\n"
     ]
    }
   ],
   "source": [
    "epsilon_tdt=np.zeros((increments))\n",
    "svars_tdt=np.zeros((increments,3)) # stress (0), plastic strain (1), total strain (2)  \n",
    "\n",
    "tol=1e-24; # do not modify\n",
    "\n",
    "pbar = ProgressBar()\n",
    "for i in pbar(range(increments)):\n",
    "    if not i % n_reset:\n",
    "        svarsGP_t=np.zeros(3)+tol\n",
    "          \n",
    "    epsilon_tdt[i]=svarsGP_t[2]+deps_inc[i]\n",
    "    svars_tdt[i,:2] = perform_constitutive_increment(deps_inc[i],svarsGP_t[:2],params)\n",
    "    svars_tdt[i,2]=epsilon_tdt[i]\n",
    "    svarsGP_t=svars_tdt[i]\n",
    "\n",
    "print(\"Incrementation completed\\nProcessing data\")"
   ]
  },
  {
   "cell_type": "markdown",
   "metadata": {},
   "source": [
    "### 2.4 Restructure data"
   ]
  },
  {
   "cell_type": "code",
   "execution_count": 10,
   "metadata": {},
   "outputs": [],
   "source": [
    "data = refine_structure_data(svars_tdt,params,increments)\n",
    "stress_t,stress_tdt,pl_strain_t,pl_strain_tdt,el_strain_t,el_strain_tdt,strain_t,strain_tdt,energy_tdt,dissipation_rate_tdt = data"
   ]
  },
  {
   "cell_type": "markdown",
   "metadata": {},
   "source": [
    "### 2.5 Plot data"
   ]
  },
  {
   "cell_type": "code",
   "execution_count": 11,
   "metadata": {},
   "outputs": [
    {
     "data": {
      "text/plain": [
       "<matplotlib.legend.Legend at 0x7f15363eb340>"
      ]
     },
     "execution_count": 11,
     "metadata": {},
     "output_type": "execute_result"
    },
    {
     "data": {
      "image/png": "[encoded data removed]",
      "text/plain": [
       "<Figure size 216x216 with 1 Axes>"
      ]
     },
     "metadata": {
      "needs_background": "light"
     },
     "output_type": "display_data"
    }
   ],
   "source": [
    "plt.rcParams[\"figure.figsize\"] = (3,3)\n",
    "fig, ax = plt.subplots(1)\n",
    "\n",
    "ax.plot(strain_t[:n_reset], stress_t[:n_reset],\n",
    "        marker='o',markersize=2, linewidth=1, color='darkblue',label='path #1')\n",
    "ax.plot(strain_t[n_reset:], stress_t[n_reset:],\n",
    "        marker='o',markersize=2, linewidth=1, color='blue',label='path #2')\n",
    "ax.set_xlabel('$2E_{12}$')\n",
    "ax.set_ylabel('$\\Sigma_{12}$')\n",
    "ax.legend()"
   ]
  },
  {
   "cell_type": "code",
   "execution_count": 12,
   "metadata": {},
   "outputs": [
    {
     "data": {
      "text/plain": [
       "<matplotlib.legend.Legend at 0x7f15362e5a30>"
      ]
     },
     "execution_count": 12,
     "metadata": {},
     "output_type": "execute_result"
    },
    {
     "data": {
      "image/png": "[encoded data removed]",
      "text/plain": [
       "<Figure size 216x216 with 1 Axes>"
      ]
     },
     "metadata": {
      "needs_background": "light"
     },
     "output_type": "display_data"
    }
   ],
   "source": [
    "fig, ax = plt.subplots(1)\n",
    "plt.plot(pl_strain_tdt[:n_reset]-pl_strain_t[:n_reset],\n",
    "         dissipation_rate_tdt[:n_reset],\n",
    "         marker='s',markersize=2, linewidth=1, color='darkorange',label='path #1')\n",
    "plt.plot(pl_strain_tdt[n_reset:]-pl_strain_t[n_reset:],\n",
    "         dissipation_rate_tdt[n_reset:],\n",
    "         marker='s',markersize=2, linewidth=1, color='red',label='path #2')\n",
    "ax.set_xlabel('$\\Delta \\epsilon^{pl}$ (-)')\n",
    "ax.set_ylabel('$D^{t+\\Delta t}$ (Nm/s)')\n",
    "ax.legend()"
   ]
  },
  {
   "cell_type": "code",
   "execution_count": 13,
   "metadata": {},
   "outputs": [
    {
     "data": {
      "text/plain": [
       "<matplotlib.legend.Legend at 0x7f15362aca00>"
      ]
     },
     "execution_count": 13,
     "metadata": {},
     "output_type": "execute_result"
    },
    {
     "data": {
      "image/png": "[encoded data removed]",
      "text/plain": [
       "<Figure size 216x216 with 1 Axes>"
      ]
     },
     "metadata": {
      "needs_background": "light"
     },
     "output_type": "display_data"
    }
   ],
   "source": [
    "fig, ax = plt.subplots(1)\n",
    "plt.plot(el_strain_tdt[n_reset:],\n",
    "         energy_tdt[n_reset:],\n",
    "         marker='s',markersize=5, linewidth=1, color='black',label='path #2')\n",
    "plt.plot(el_strain_tdt[:n_reset],\n",
    "         energy_tdt[:n_reset],\n",
    "         marker='s',markersize=2, linewidth=1, color='gray',label='path #1')\n",
    "ax.set_xlabel('$\\Delta \\epsilon^{el}$ (-)')\n",
    "ax.set_ylabel('$F^{t+\\Delta t}$ (Nm)')\n",
    "ax.legend()"
   ]
  }
 ],
 "metadata": {
  "kernelspec": {
   "display_name": "Python 3",
   "language": "python",
   "name": "python3"
  },
  "language_info": {
   "codemirror_mode": {
    "name": "ipython",
    "version": 3
   },
   "file_extension": ".py",
   "mimetype": "text/x-python",
   "name": "python",
   "nbconvert_exporter": "python",
   "pygments_lexer": "ipython3",
   "version": "3.8.10"
  }
 },
 "nbformat": 4,
 "nbformat_minor": 4
}
